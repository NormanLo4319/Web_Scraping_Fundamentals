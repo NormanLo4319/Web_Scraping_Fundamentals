{
 "cells": [
  {
   "cell_type": "markdown",
   "metadata": {},
   "source": [
    "# Web Scraping with APIs\n",
    "\n",
    "### What is API?\n",
    "An **Application Programming Interface (API)** enables developers to create repetitive but highly sophisticated software with minimal code. APIs act as prepacked functionality that developer can drop into their code. An example would be apps that use map based location. Almost all these softwares did not build their own map technology because it would be a costly endeavor for any small company. Instead, they most likely used a pre-built map API, like Google's. Furthermore,there is no overhead cost of using API.\n",
    "\n",
    "### How does API work?\n",
    "Basically, APIs act as an intermediary for two pieces of software. Implementing APIs into code requres two steps:\n",
    "\n",
    "1. The script must create a **Get** query sent to API with parameters\n",
    "2. After request is sent, the API returns a response that is typically encoded in a JSON format.\n",
    "\n",
    "Note: **JSON** is the primary format in which data is passed back and forth to APIs and most API servers will send the responses in JSON format.\n",
    "\n",
    "### Why using API?\n",
    "Since APIs provide us direct access to the data from the web server, it is always a better option over building a web scraper from scratch. Web scraper could be used to extract data when the web server does not provide an API to access the data. \n",
    "\n",
    "## Part I - Creating API Requests\n",
    "\n",
    "In this section, we are going to explore the first step of using APIs creating the request. To practice, we are using this free API on [upcitemdb.com](https://devs.upcitemdb.com/). Select the \"Explorer FREE\" service with no sign up required.\n",
    "<br>\n",
    "<br>\n",
    "<div>\n",
    "    <img src=\"images/upcitemdb.png\"/>\n",
    "</div>\n",
    "<br>\n",
    "\n",
    "This software translates barcodes into a whole host of information including the product's name and brand. To see an example of what an API call should look like, use their online GUI. To demo, we just use a Crosley Furniture barcode.\n",
    "\n",
    "#### Sending API Request:\n",
    "<br>\n",
    "<div>\n",
    "    <img src=\"images/upcitemdb_request.png\"/>\n",
    "</div>\n",
    "<br>\n",
    "\n",
    "#### Return JSON Format:\n",
    "<div>\n",
    "    <img src=\"images/upcitemdb_get.png\"/>\n",
    "</div>\n",
    "<br>\n",
    "\n",
    "This is a lot of information to break down. But, for now, let's just focus at the request URL line at the top. This line contain two factors, the base URL, or everything preceding the question mark, and the parameters of the API call, or everything after the question mark. The base URL is independent of our parameters and will be the same for any barcode we'll look up. On the other hand, the parameters are specific to this barcode search. This may sound complex, but this breaks down very simplly into code.\n",
    "\n",
    "Let' start by contructing the base URL for the API call!"
   ]
  },
  {
   "cell_type": "code",
   "execution_count": 1,
   "metadata": {},
   "outputs": [],
   "source": [
    "# Import the dependencies\n",
    "import requests"
   ]
  },
  {
   "cell_type": "code",
   "execution_count": 2,
   "metadata": {},
   "outputs": [],
   "source": [
    "# Assigning the base URL\n",
    "baseURL = 'https://api.upcitemdb.com/prod/trial/lookup'"
   ]
  },
  {
   "cell_type": "code",
   "execution_count": 3,
   "metadata": {},
   "outputs": [],
   "source": [
    "# Construct the parameter for the API call\n",
    "# The parameter is a Python dictionary\n",
    "parameters ={'upc': '710244229739'}"
   ]
  },
  {
   "cell_type": "code",
   "execution_count": 4,
   "metadata": {},
   "outputs": [],
   "source": [
    "# Send the GET query containing the parameters and the base URL\n",
    "response = requests.get(baseURL, params=parameters)"
   ]
  },
  {
   "cell_type": "code",
   "execution_count": 5,
   "metadata": {},
   "outputs": [
    {
     "name": "stdout",
     "output_type": "stream",
     "text": [
      "https://api.upcitemdb.com/prod/trial/lookup?upc=710244229739\n"
     ]
    }
   ],
   "source": [
    "# Print the response URL attribute\n",
    "print(response.url)"
   ]
  },
  {
   "cell_type": "markdown",
   "metadata": {},
   "source": [
    "## Part II - Parsing through JSON\n",
    "\n",
    "In the previous section, we build the API request to the UPCitemdb interface and now it's time to work with the API's response. Recall that APIs transfer information in the form of JSON documents, which is not a native data structure in Python. So to make the response more navigable, we need the help of a library called **JSON**. JSON has a function called **loads** that converts JSON documents into dictionaries, so making the API's response much more Python-friendly. "
   ]
  },
  {
   "cell_type": "code",
   "execution_count": 6,
   "metadata": {},
   "outputs": [],
   "source": [
    "# Import the JSON package\n",
    "import json"
   ]
  },
  {
   "cell_type": "code",
   "execution_count": 7,
   "metadata": {},
   "outputs": [],
   "source": [
    "# Create the response content\n",
    "content = response.content"
   ]
  },
  {
   "cell_type": "code",
   "execution_count": 8,
   "metadata": {},
   "outputs": [
    {
     "name": "stdout",
     "output_type": "stream",
     "text": [
      "b'{\"code\":\"OK\",\"total\":1,\"offset\":0,\"items\":[{\"ean\":\"0710244229739\",\"title\":\"Crosley Outdoor End Table Furniture Cover\",\"description\":\"Protects furniture from sun, rain, snow, dirt, sap and more; Cover is waterproof; Made from heavy gauge, reinforced vinyl; Gray vinyl; Puncture resistant; Scratch resistant lining; Sewn-in drawstrings secure covers to furniture; Fully assembled\",\"upc\":\"710244229739\",\"brand\":\"Crosley Furniture\",\"model\":\"CO7504-GY\",\"color\":\"Gray\",\"size\":\"\",\"dimension\":\"\",\"weight\":\"1.33lb\",\"category\":\"Furniture > Outdoor Furniture > Outdoor Ottomans\",\"currency\":\"\",\"lowest_recorded_price\":23.15,\"highest_recorded_price\":119.84,\"images\":[\"https://images.homedepot-static.com/productImages/910c3957-2a41-475a-a2f5-804812da423c/svn/crosley-furniture-patio-table-covers-co7504-gy-64_1000.jpg\",\"https://i5.walmartimages.com/asr/03116700-8443-495a-a449-d648981d0d7d_1.8937966bee9f7e5ab6cd924844e702c6.jpeg?odnHeight=450&odnWidth=450&odnBg=ffffff\",\"http://site.unbeatablesale.com/MDMC3356.JPG\",\"https://tshop.r10s.com/cc0/2b2/22c2/8867/c024/fc2d/7dd9/1164e9bbc20242ac110004.jpg?_ex=512x512\"],\"offers\":[{\"merchant\":\"UnbeatableSale.com\",\"domain\":\"unbeatablesale.com\",\"title\":\"CO7504-GY Outdoor End Table Furniture Cover&#44; Gray\",\"currency\":\"\",\"list_price\":30.23,\"price\":23.25,\"shipping\":\"US:::6.42 USD\",\"condition\":\"New\",\"availability\":\"\",\"link\":\"https://www.upcitemdb.com/norob/alink/?id=y2w2x2x203336464s2&tid=1&seq=1596077943&plt=af165c26629c394376bfd89a07c39ab8\",\"updated_t\":1596046858},{\"merchant\":\"Home Depot\",\"domain\":\"homedepot.com\",\"title\":\"CROSLEY FURNITURE Outdoor Gray End Table Furniture Cover\",\"currency\":\"\",\"list_price\":\"\",\"price\":29,\"shipping\":\"\",\"condition\":\"New\",\"availability\":\"\",\"link\":\"https://www.upcitemdb.com/norob/alink/?id=y2r2z223w20364d4t2&tid=1&seq=1596077943&plt=40f9e7045d043ece92666041609d999b\",\"updated_t\":1595908242},{\"merchant\":\"Rakuten(Buy.com)\",\"domain\":\"rakuten.com\",\"title\":\"Outdoor End Table Furniture Cover Gray\",\"currency\":\"\",\"list_price\":\"\",\"price\":110.93,\"shipping\":\"\",\"condition\":\"New\",\"availability\":\"\",\"link\":\"https://www.upcitemdb.com/norob/alink/?id=y2p22313x203d4d4u2&tid=1&seq=1596077943&plt=be9117ea943dc4f77651f11213fb232b\",\"updated_t\":1594392579},{\"merchant\":\"Wal-Mart.com\",\"domain\":\"walmart.com\",\"title\":\"Crosley Outdoor End Table Furniture Cover\",\"currency\":\"\",\"list_price\":\"\",\"price\":33.54,\"shipping\":\"Free Shipping\",\"condition\":\"New\",\"availability\":\"Out of Stock\",\"link\":\"https://www.upcitemdb.com/norob/alink/?id=y2q2z2t2v213c444q2&tid=1&seq=1596077943&plt=3862581c3d8068ffdb5a3c3a0a307059\",\"updated_t\":1590033126}],\"elid\":\"184256700139\"}]}'\n"
     ]
    }
   ],
   "source": [
    "# Print the content\n",
    "print(content)"
   ]
  },
  {
   "cell_type": "code",
   "execution_count": 9,
   "metadata": {},
   "outputs": [],
   "source": [
    "# Convert JSON document into dictionaries\n",
    "info = json.loads(content)"
   ]
  },
  {
   "cell_type": "code",
   "execution_count": 10,
   "metadata": {},
   "outputs": [
    {
     "name": "stdout",
     "output_type": "stream",
     "text": [
      "<class 'dict'>\n",
      "{'code': 'OK', 'total': 1, 'offset': 0, 'items': [{'ean': '0710244229739', 'title': 'Crosley Outdoor End Table Furniture Cover', 'description': 'Protects furniture from sun, rain, snow, dirt, sap and more; Cover is waterproof; Made from heavy gauge, reinforced vinyl; Gray vinyl; Puncture resistant; Scratch resistant lining; Sewn-in drawstrings secure covers to furniture; Fully assembled', 'upc': '710244229739', 'brand': 'Crosley Furniture', 'model': 'CO7504-GY', 'color': 'Gray', 'size': '', 'dimension': '', 'weight': '1.33lb', 'category': 'Furniture > Outdoor Furniture > Outdoor Ottomans', 'currency': '', 'lowest_recorded_price': 23.15, 'highest_recorded_price': 119.84, 'images': ['https://images.homedepot-static.com/productImages/910c3957-2a41-475a-a2f5-804812da423c/svn/crosley-furniture-patio-table-covers-co7504-gy-64_1000.jpg', 'https://i5.walmartimages.com/asr/03116700-8443-495a-a449-d648981d0d7d_1.8937966bee9f7e5ab6cd924844e702c6.jpeg?odnHeight=450&odnWidth=450&odnBg=ffffff', 'http://site.unbeatablesale.com/MDMC3356.JPG', 'https://tshop.r10s.com/cc0/2b2/22c2/8867/c024/fc2d/7dd9/1164e9bbc20242ac110004.jpg?_ex=512x512'], 'offers': [{'merchant': 'UnbeatableSale.com', 'domain': 'unbeatablesale.com', 'title': 'CO7504-GY Outdoor End Table Furniture Cover&#44; Gray', 'currency': '', 'list_price': 30.23, 'price': 23.25, 'shipping': 'US:::6.42 USD', 'condition': 'New', 'availability': '', 'link': 'https://www.upcitemdb.com/norob/alink/?id=y2w2x2x203336464s2&tid=1&seq=1596077943&plt=af165c26629c394376bfd89a07c39ab8', 'updated_t': 1596046858}, {'merchant': 'Home Depot', 'domain': 'homedepot.com', 'title': 'CROSLEY FURNITURE Outdoor Gray End Table Furniture Cover', 'currency': '', 'list_price': '', 'price': 29, 'shipping': '', 'condition': 'New', 'availability': '', 'link': 'https://www.upcitemdb.com/norob/alink/?id=y2r2z223w20364d4t2&tid=1&seq=1596077943&plt=40f9e7045d043ece92666041609d999b', 'updated_t': 1595908242}, {'merchant': 'Rakuten(Buy.com)', 'domain': 'rakuten.com', 'title': 'Outdoor End Table Furniture Cover Gray', 'currency': '', 'list_price': '', 'price': 110.93, 'shipping': '', 'condition': 'New', 'availability': '', 'link': 'https://www.upcitemdb.com/norob/alink/?id=y2p22313x203d4d4u2&tid=1&seq=1596077943&plt=be9117ea943dc4f77651f11213fb232b', 'updated_t': 1594392579}, {'merchant': 'Wal-Mart.com', 'domain': 'walmart.com', 'title': 'Crosley Outdoor End Table Furniture Cover', 'currency': '', 'list_price': '', 'price': 33.54, 'shipping': 'Free Shipping', 'condition': 'New', 'availability': 'Out of Stock', 'link': 'https://www.upcitemdb.com/norob/alink/?id=y2q2z2t2v213c444q2&tid=1&seq=1596077943&plt=3862581c3d8068ffdb5a3c3a0a307059', 'updated_t': 1590033126}], 'elid': '184256700139'}]}\n"
     ]
    }
   ],
   "source": [
    "# Print the info dictionary\n",
    "print(type(info))\n",
    "print(info)"
   ]
  },
  {
   "cell_type": "markdown",
   "metadata": {},
   "source": [
    "Now that we have a Python dictionary, we can extract the data that we need from the dictionary by the keys. We want to extract the item's title, brand name, highest price, and lowest price. All the keys are within the \"items\" key, so we begin by extracting the item from the dictionary."
   ]
  },
  {
   "cell_type": "code",
   "execution_count": 11,
   "metadata": {},
   "outputs": [],
   "source": [
    "# Extract the item from the dictionary\n",
    "item = info['items']"
   ]
  },
  {
   "cell_type": "code",
   "execution_count": 12,
   "metadata": {},
   "outputs": [],
   "source": [
    "# Extract the item info form item\n",
    "itemInfo = item[0]"
   ]
  },
  {
   "cell_type": "code",
   "execution_count": 13,
   "metadata": {},
   "outputs": [],
   "source": [
    "# Extrac the title of the item\n",
    "title = itemInfo['title']"
   ]
  },
  {
   "cell_type": "code",
   "execution_count": 14,
   "metadata": {},
   "outputs": [],
   "source": [
    "# Extract the brand name of the item\n",
    "brand = itemInfo['brand']"
   ]
  },
  {
   "cell_type": "code",
   "execution_count": 15,
   "metadata": {},
   "outputs": [],
   "source": [
    "# Extract the highest price\n",
    "high = itemInfo['highest_recorded_price']"
   ]
  },
  {
   "cell_type": "code",
   "execution_count": 16,
   "metadata": {},
   "outputs": [],
   "source": [
    "# Extract the lowest price\n",
    "low = itemInfo['lowest_recorded_price']"
   ]
  },
  {
   "cell_type": "code",
   "execution_count": 17,
   "metadata": {},
   "outputs": [
    {
     "name": "stdout",
     "output_type": "stream",
     "text": [
      "Item Title:  Crosley Outdoor End Table Furniture Cover\n",
      "Item Brand:  Crosley Furniture\n",
      "Highest Price:  119.84\n",
      "Lowest Price:  23.15\n"
     ]
    }
   ],
   "source": [
    "# Print the titel and brand\n",
    "print(\"Item Title: \", title)\n",
    "print(\"Item Brand: \", brand)\n",
    "print(\"Highest Price: \", high)\n",
    "print(\"Lowest Price: \", low)"
   ]
  },
  {
   "cell_type": "markdown",
   "metadata": {},
   "source": [
    "## Part III - Using API Keys\n",
    "\n",
    "For most of the API services, **API key** is used to mandate access the software.  Making key mandatory for an API allows the developer to inspect who's calling their software as well as monitor how many calls each client makes.  This is important as there's an overhead cost for API developer who has to constantly update their interface's software. By monitoring their clients calls, they can appropriately price pans for each client's needs. As an result, some APIs are locked behind accounts or pay walls, so we need to make an account with the organization hosting the API to obtain keys for access.  \n",
    "\n",
    "In this demo, we are using OpenWeather Map's API. You can create a free account [here](https://home.openweathermap.org/users/sign_up) which gives you access to these base features. Once you completed the registration process, they will send you an unique API key for your account that you must use when construting the requests.\n",
    "<br>\n",
    "<br>\n",
    "<div>\n",
    "    <img src=\"images/OpenWeather.png\"/>\n",
    "</div>\n",
    "<br>\n",
    "\n",
    "Head to their documentation for three-hour five-day forecasts, we can see how the API is called under the API call header.\n",
    "<br>\n",
    "<br>\n",
    "<div>\n",
    "    <img src=\"images/OpenWeather_doc.png\"/>\n",
    "</div>\n",
    "<br>\n",
    "\n",
    "We follow the same logic by creating the base URL and construct the parameters for the API call. In this example, the API call needs a city name and a country code. We are choosing the city Seattle with the country code US. \n",
    "\n",
    "### Attach the API Key:\n",
    "To make sure the interface responds to us, we need to attach the API key with our GET request. To do this, we store the API key in a separated Python file (config.py). You can insert your own key to this file to follow the steps in this demo. We are going to import the API key directly from this file.\n",
    "\n",
    "The reason we store the API key in a separated file because we do not want to include the API key in our code that could expose the private key to others. It is very dangerous exposing the API key to the public because most of these services are linked to your payment account.\n",
    "\n"
   ]
  },
  {
   "cell_type": "code",
   "execution_count": 18,
   "metadata": {},
   "outputs": [],
   "source": [
    "# Import the dependencies and API key\n",
    "import requests\n",
    "import json\n",
    "from config import api_key"
   ]
  },
  {
   "cell_type": "code",
   "execution_count": 19,
   "metadata": {},
   "outputs": [],
   "source": [
    "# Assign the base URL\n",
    "# Remember to attach the http protocol to the front of the URL\n",
    "baseURL = \"http://api.openweathermap.org/data/2.5/forecast\""
   ]
  },
  {
   "cell_type": "code",
   "execution_count": 20,
   "metadata": {},
   "outputs": [],
   "source": [
    "# Construct the parameter and API key for the request\n",
    "parameters = {'APPID':api_key, 'q':'Seattle,US'}"
   ]
  },
  {
   "cell_type": "code",
   "execution_count": 21,
   "metadata": {},
   "outputs": [],
   "source": [
    "# Create the request\n",
    "response = requests.get(baseURL, params=parameters)"
   ]
  },
  {
   "cell_type": "code",
   "execution_count": 22,
   "metadata": {},
   "outputs": [
    {
     "name": "stdout",
     "output_type": "stream",
     "text": [
      "b'{\"cod\":\"200\",\"message\":0,\"cnt\":40,\"list\":[{\"dt\":1596078000,\"main\":{\"temp\":296.78,\"feels_like\":294.59,\"temp_min\":295.52,\"temp_max\":296.78,\"pressure\":1013,\"sea_level\":1013,\"grnd_level\":1004,\"humidity\":40,\"temp_kf\":1.26},\"weather\":[{\"id\":800,\"main\":\"Clear\",\"description\":\"clear sky\",\"icon\":\"01d\"}],\"clouds\":{\"all\":1},\"wind\":{\"speed\":2.9,\"deg\":11},\"visibility\":10000,\"pop\":0,\"sys\":{\"pod\":\"d\"},\"dt_txt\":\"2020-07-30 03:00:00\"},{\"dt\":1596088800,\"main\":{\"temp\":291.98,\"feels_like\":290.21,\"temp_min\":290.32,\"temp_max\":291.98,\"pressure\":1015,\"sea_level\":1015,\"grnd_level\":1006,\"humidity\":53,\"temp_kf\":1.66},\"weather\":[{\"id\":800,\"main\":\"Clear\",\"description\":\"clear sky\",\"icon\":\"01n\"}],\"clouds\":{\"all\":0},\"wind\":{\"speed\":2.23,\"deg\":23},\"visibility\":10000,\"pop\":0,\"sys\":{\"pod\":\"n\"},\"dt_txt\":\"2020-07-30 06:00:00\"},{\"dt\":1596099600,\"main\":{\"temp\":289.48,\"feels_like\":287.83,\"temp_min\":288.9,\"temp_max\":289.48,\"pressure\":1015,\"sea_level\":1015,\"grnd_level\":1006,\"humidity\":56,\"temp_kf\":0.58},\"weather\":[{\"id\":800,\"main\":\"Clear\",\"description\":\"clear sky\",\"icon\":\"01n\"}],\"clouds\":{\"all\":6},\"wind\":{\"speed\":1.54,\"deg\":28},\"visibility\":10000,\"pop\":0,\"sys\":{\"pod\":\"n\"},\"dt_txt\":\"2020-07-30 09:00:00\"},{\"dt\":1596110400,\"main\":{\"temp\":288.06,\"feels_like\":286.48,\"temp_min\":287.98,\"temp_max\":288.06,\"pressure\":1016,\"sea_level\":1016,\"grnd_level\":1007,\"humidity\":61,\"temp_kf\":0.08},\"weather\":[{\"id\":800,\"main\":\"Clear\",\"description\":\"clear sky\",\"icon\":\"01n\"}],\"clouds\":{\"all\":6},\"wind\":{\"speed\":1.41,\"deg\":19},\"visibility\":10000,\"pop\":0,\"sys\":{\"pod\":\"n\"},\"dt_txt\":\"2020-07-30 12:00:00\"},{\"dt\":1596121200,\"main\":{\"temp\":291.67,\"feels_like\":290.04,\"temp_min\":291.67,\"temp_max\":291.67,\"pressure\":1016,\"sea_level\":1016,\"grnd_level\":1007,\"humidity\":52,\"temp_kf\":0},\"weather\":[{\"id\":800,\"main\":\"Clear\",\"description\":\"clear sky\",\"icon\":\"01d\"}],\"clouds\":{\"all\":2},\"wind\":{\"speed\":1.83,\"deg\":12},\"visibility\":10000,\"pop\":0,\"sys\":{\"pod\":\"d\"},\"dt_txt\":\"2020-07-30 15:00:00\"},{\"dt\":1596132000,\"main\":{\"temp\":297.97,\"feels_like\":296.13,\"temp_min\":297.97,\"temp_max\":297.97,\"pressure\":1015,\"sea_level\":1015,\"grnd_level\":1007,\"humidity\":39,\"temp_kf\":0},\"weather\":[{\"id\":800,\"main\":\"Clear\",\"description\":\"clear sky\",\"icon\":\"01d\"}],\"clouds\":{\"all\":3},\"wind\":{\"speed\":2.66,\"deg\":353},\"visibility\":10000,\"pop\":0,\"sys\":{\"pod\":\"d\"},\"dt_txt\":\"2020-07-30 18:00:00\"},{\"dt\":1596142800,\"main\":{\"temp\":301.96,\"feels_like\":299.83,\"temp_min\":301.96,\"temp_max\":301.96,\"pressure\":1014,\"sea_level\":1014,\"grnd_level\":1005,\"humidity\":32,\"temp_kf\":0},\"weather\":[{\"id\":800,\"main\":\"Clear\",\"description\":\"clear sky\",\"icon\":\"01d\"}],\"clouds\":{\"all\":0},\"wind\":{\"speed\":3.28,\"deg\":344},\"visibility\":10000,\"pop\":0,\"sys\":{\"pod\":\"d\"},\"dt_txt\":\"2020-07-30 21:00:00\"},{\"dt\":1596153600,\"main\":{\"temp\":302.24,\"feels_like\":300.07,\"temp_min\":302.24,\"temp_max\":302.24,\"pressure\":1013,\"sea_level\":1013,\"grnd_level\":1005,\"humidity\":32,\"temp_kf\":0},\"weather\":[{\"id\":800,\"main\":\"Clear\",\"description\":\"clear sky\",\"icon\":\"01d\"}],\"clouds\":{\"all\":0},\"wind\":{\"speed\":3.44,\"deg\":349},\"visibility\":10000,\"pop\":0,\"sys\":{\"pod\":\"d\"},\"dt_txt\":\"2020-07-31 00:00:00\"},{\"dt\":1596164400,\"main\":{\"temp\":296.2,\"feels_like\":295.83,\"temp_min\":296.2,\"temp_max\":296.2,\"pressure\":1013,\"sea_level\":1013,\"grnd_level\":1005,\"humidity\":52,\"temp_kf\":0},\"weather\":[{\"id\":500,\"main\":\"Rain\",\"description\":\"light rain\",\"icon\":\"10d\"}],\"clouds\":{\"all\":7},\"wind\":{\"speed\":1.7,\"deg\":12},\"visibility\":10000,\"pop\":0.44,\"rain\":{\"3h\":0.36},\"sys\":{\"pod\":\"d\"},\"dt_txt\":\"2020-07-31 03:00:00\"},{\"dt\":1596175200,\"main\":{\"temp\":291.71,\"feels_like\":292.1,\"temp_min\":291.71,\"temp_max\":291.71,\"pressure\":1015,\"sea_level\":1015,\"grnd_level\":1006,\"humidity\":72,\"temp_kf\":0},\"weather\":[{\"id\":500,\"main\":\"Rain\",\"description\":\"light rain\",\"icon\":\"10n\"}],\"clouds\":{\"all\":24},\"wind\":{\"speed\":0.96,\"deg\":351},\"visibility\":10000,\"pop\":0.64,\"rain\":{\"3h\":0.41},\"sys\":{\"pod\":\"n\"},\"dt_txt\":\"2020-07-31 06:00:00\"},{\"dt\":1596186000,\"main\":{\"temp\":290.16,\"feels_like\":290.78,\"temp_min\":290.16,\"temp_max\":290.16,\"pressure\":1014,\"sea_level\":1014,\"grnd_level\":1005,\"humidity\":76,\"temp_kf\":0},\"weather\":[{\"id\":800,\"main\":\"Clear\",\"description\":\"clear sky\",\"icon\":\"01n\"}],\"clouds\":{\"all\":0},\"wind\":{\"speed\":0.33,\"deg\":158},\"visibility\":10000,\"pop\":0,\"sys\":{\"pod\":\"n\"},\"dt_txt\":\"2020-07-31 09:00:00\"},{\"dt\":1596196800,\"main\":{\"temp\":289.43,\"feels_like\":289.44,\"temp_min\":289.43,\"temp_max\":289.43,\"pressure\":1014,\"sea_level\":1014,\"grnd_level\":1005,\"humidity\":77,\"temp_kf\":0},\"weather\":[{\"id\":801,\"main\":\"Clouds\",\"description\":\"few clouds\",\"icon\":\"02n\"}],\"clouds\":{\"all\":16},\"wind\":{\"speed\":0.97,\"deg\":227},\"visibility\":10000,\"pop\":0,\"sys\":{\"pod\":\"n\"},\"dt_txt\":\"2020-07-31 12:00:00\"},{\"dt\":1596207600,\"main\":{\"temp\":291.73,\"feels_like\":291.37,\"temp_min\":291.73,\"temp_max\":291.73,\"pressure\":1014,\"sea_level\":1014,\"grnd_level\":1005,\"humidity\":68,\"temp_kf\":0},\"weather\":[{\"id\":500,\"main\":\"Rain\",\"description\":\"light rain\",\"icon\":\"10d\"}],\"clouds\":{\"all\":6},\"wind\":{\"speed\":1.65,\"deg\":197},\"visibility\":10000,\"pop\":0.21,\"rain\":{\"3h\":0.15},\"sys\":{\"pod\":\"d\"},\"dt_txt\":\"2020-07-31 15:00:00\"},{\"dt\":1596218400,\"main\":{\"temp\":298.97,\"feels_like\":297.45,\"temp_min\":298.97,\"temp_max\":298.97,\"pressure\":1014,\"sea_level\":1014,\"grnd_level\":1006,\"humidity\":38,\"temp_kf\":0},\"weather\":[{\"id\":801,\"main\":\"Clouds\",\"description\":\"few clouds\",\"icon\":\"02d\"}],\"clouds\":{\"all\":11},\"wind\":{\"speed\":2.39,\"deg\":199},\"visibility\":10000,\"pop\":0.01,\"sys\":{\"pod\":\"d\"},\"dt_txt\":\"2020-07-31 18:00:00\"},{\"dt\":1596229200,\"main\":{\"temp\":303.69,\"feels_like\":302.05,\"temp_min\":303.69,\"temp_max\":303.69,\"pressure\":1015,\"sea_level\":1015,\"grnd_level\":1006,\"humidity\":29,\"temp_kf\":0},\"weather\":[{\"id\":803,\"main\":\"Clouds\",\"description\":\"broken clouds\",\"icon\":\"04d\"}],\"clouds\":{\"all\":60},\"wind\":{\"speed\":2.59,\"deg\":222},\"visibility\":10000,\"pop\":0,\"sys\":{\"pod\":\"d\"},\"dt_txt\":\"2020-07-31 21:00:00\"},{\"dt\":1596240000,\"main\":{\"temp\":301.92,\"feels_like\":300.53,\"temp_min\":301.92,\"temp_max\":301.92,\"pressure\":1015,\"sea_level\":1015,\"grnd_level\":1006,\"humidity\":34,\"temp_kf\":0},\"weather\":[{\"id\":802,\"main\":\"Clouds\",\"description\":\"scattered clouds\",\"icon\":\"03d\"}],\"clouds\":{\"all\":47},\"wind\":{\"speed\":2.59,\"deg\":255},\"visibility\":10000,\"pop\":0,\"sys\":{\"pod\":\"d\"},\"dt_txt\":\"2020-08-01 00:00:00\"},{\"dt\":1596250800,\"main\":{\"temp\":294.98,\"feels_like\":295.28,\"temp_min\":294.98,\"temp_max\":294.98,\"pressure\":1016,\"sea_level\":1016,\"grnd_level\":1007,\"humidity\":55,\"temp_kf\":0},\"weather\":[{\"id\":802,\"main\":\"Clouds\",\"description\":\"scattered clouds\",\"icon\":\"03d\"}],\"clouds\":{\"all\":38},\"wind\":{\"speed\":0.63,\"deg\":267},\"visibility\":10000,\"pop\":0,\"sys\":{\"pod\":\"d\"},\"dt_txt\":\"2020-08-01 03:00:00\"},{\"dt\":1596261600,\"main\":{\"temp\":289.75,\"feels_like\":289.68,\"temp_min\":289.75,\"temp_max\":289.75,\"pressure\":1017,\"sea_level\":1017,\"grnd_level\":1008,\"humidity\":76,\"temp_kf\":0},\"weather\":[{\"id\":802,\"main\":\"Clouds\",\"description\":\"scattered clouds\",\"icon\":\"03n\"}],\"clouds\":{\"all\":39},\"wind\":{\"speed\":1.14,\"deg\":177},\"visibility\":10000,\"pop\":0,\"sys\":{\"pod\":\"n\"},\"dt_txt\":\"2020-08-01 06:00:00\"},{\"dt\":1596272400,\"main\":{\"temp\":288.05,\"feels_like\":287.82,\"temp_min\":288.05,\"temp_max\":288.05,\"pressure\":1017,\"sea_level\":1017,\"grnd_level\":1008,\"humidity\":86,\"temp_kf\":0},\"weather\":[{\"id\":803,\"main\":\"Clouds\",\"description\":\"broken clouds\",\"icon\":\"04n\"}],\"clouds\":{\"all\":54},\"wind\":{\"speed\":1.47,\"deg\":175},\"visibility\":10000,\"pop\":0,\"sys\":{\"pod\":\"n\"},\"dt_txt\":\"2020-08-01 09:00:00\"},{\"dt\":1596283200,\"main\":{\"temp\":287.74,\"feels_like\":287.46,\"temp_min\":287.74,\"temp_max\":287.74,\"pressure\":1018,\"sea_level\":1018,\"grnd_level\":1009,\"humidity\":88,\"temp_kf\":0},\"weather\":[{\"id\":803,\"main\":\"Clouds\",\"description\":\"broken clouds\",\"icon\":\"04n\"}],\"clouds\":{\"all\":77},\"wind\":{\"speed\":1.56,\"deg\":196},\"visibility\":10000,\"pop\":0,\"sys\":{\"pod\":\"n\"},\"dt_txt\":\"2020-08-01 12:00:00\"},{\"dt\":1596294000,\"main\":{\"temp\":289.71,\"feels_like\":289.28,\"temp_min\":289.71,\"temp_max\":289.71,\"pressure\":1018,\"sea_level\":1018,\"grnd_level\":1009,\"humidity\":78,\"temp_kf\":0},\"weather\":[{\"id\":803,\"main\":\"Clouds\",\"description\":\"broken clouds\",\"icon\":\"04d\"}],\"clouds\":{\"all\":58},\"wind\":{\"speed\":1.81,\"deg\":188},\"visibility\":10000,\"pop\":0,\"sys\":{\"pod\":\"d\"},\"dt_txt\":\"2020-08-01 15:00:00\"},{\"dt\":1596304800,\"main\":{\"temp\":294.65,\"feels_like\":294.07,\"temp_min\":294.65,\"temp_max\":294.65,\"pressure\":1017,\"sea_level\":1017,\"grnd_level\":1009,\"humidity\":57,\"temp_kf\":0},\"weather\":[{\"id\":803,\"main\":\"Clouds\",\"description\":\"broken clouds\",\"icon\":\"04d\"}],\"clouds\":{\"all\":61},\"wind\":{\"speed\":1.99,\"deg\":233},\"visibility\":10000,\"pop\":0,\"sys\":{\"pod\":\"d\"},\"dt_txt\":\"2020-08-01 18:00:00\"},{\"dt\":1596315600,\"main\":{\"temp\":300.59,\"feels_like\":300.15,\"temp_min\":300.59,\"temp_max\":300.59,\"pressure\":1016,\"sea_level\":1016,\"grnd_level\":1008,\"humidity\":39,\"temp_kf\":0},\"weather\":[{\"id\":802,\"main\":\"Clouds\",\"description\":\"scattered clouds\",\"icon\":\"03d\"}],\"clouds\":{\"all\":49},\"wind\":{\"speed\":1.62,\"deg\":296},\"visibility\":10000,\"pop\":0,\"sys\":{\"pod\":\"d\"},\"dt_txt\":\"2020-08-01 21:00:00\"},{\"dt\":1596326400,\"main\":{\"temp\":298.79,\"feels_like\":297.47,\"temp_min\":298.79,\"temp_max\":298.79,\"pressure\":1016,\"sea_level\":1016,\"grnd_level\":1007,\"humidity\":42,\"temp_kf\":0},\"weather\":[{\"id\":803,\"main\":\"Clouds\",\"description\":\"broken clouds\",\"icon\":\"04d\"}],\"clouds\":{\"all\":74},\"wind\":{\"speed\":2.66,\"deg\":333},\"visibility\":10000,\"pop\":0,\"sys\":{\"pod\":\"d\"},\"dt_txt\":\"2020-08-02 00:00:00\"},{\"dt\":1596337200,\"main\":{\"temp\":294.59,\"feels_like\":293.84,\"temp_min\":294.59,\"temp_max\":294.59,\"pressure\":1017,\"sea_level\":1017,\"grnd_level\":1008,\"humidity\":56,\"temp_kf\":0},\"weather\":[{\"id\":803,\"main\":\"Clouds\",\"description\":\"broken clouds\",\"icon\":\"04d\"}],\"clouds\":{\"all\":73},\"wind\":{\"speed\":2.09,\"deg\":355},\"visibility\":10000,\"pop\":0,\"sys\":{\"pod\":\"d\"},\"dt_txt\":\"2020-08-02 03:00:00\"},{\"dt\":1596348000,\"main\":{\"temp\":289.56,\"feels_like\":290.19,\"temp_min\":289.56,\"temp_max\":289.56,\"pressure\":1017,\"sea_level\":1017,\"grnd_level\":1009,\"humidity\":77,\"temp_kf\":0},\"weather\":[{\"id\":802,\"main\":\"Clouds\",\"description\":\"scattered clouds\",\"icon\":\"03n\"}],\"clouds\":{\"all\":36},\"wind\":{\"speed\":0.15,\"deg\":97},\"visibility\":10000,\"pop\":0,\"sys\":{\"pod\":\"n\"},\"dt_txt\":\"2020-08-02 06:00:00\"},{\"dt\":1596358800,\"main\":{\"temp\":287.79,\"feels_like\":287.96,\"temp_min\":287.79,\"temp_max\":287.79,\"pressure\":1018,\"sea_level\":1018,\"grnd_level\":1009,\"humidity\":86,\"temp_kf\":0},\"weather\":[{\"id\":800,\"main\":\"Clear\",\"description\":\"clear sky\",\"icon\":\"01n\"}],\"clouds\":{\"all\":2},\"wind\":{\"speed\":0.78,\"deg\":181},\"visibility\":10000,\"pop\":0,\"sys\":{\"pod\":\"n\"},\"dt_txt\":\"2020-08-02 09:00:00\"},{\"dt\":1596369600,\"main\":{\"temp\":286.88,\"feels_like\":286.36,\"temp_min\":286.88,\"temp_max\":286.88,\"pressure\":1018,\"sea_level\":1018,\"grnd_level\":1009,\"humidity\":89,\"temp_kf\":0},\"weather\":[{\"id\":800,\"main\":\"Clear\",\"description\":\"clear sky\",\"icon\":\"01n\"}],\"clouds\":{\"all\":7},\"wind\":{\"speed\":1.6,\"deg\":195},\"visibility\":10000,\"pop\":0,\"sys\":{\"pod\":\"n\"},\"dt_txt\":\"2020-08-02 12:00:00\"},{\"dt\":1596380400,\"main\":{\"temp\":289.23,\"feels_like\":288.18,\"temp_min\":289.23,\"temp_max\":289.23,\"pressure\":1019,\"sea_level\":1019,\"grnd_level\":1010,\"humidity\":77,\"temp_kf\":0},\"weather\":[{\"id\":803,\"main\":\"Clouds\",\"description\":\"broken clouds\",\"icon\":\"04d\"}],\"clouds\":{\"all\":55},\"wind\":{\"speed\":2.4,\"deg\":193},\"visibility\":10000,\"pop\":0,\"sys\":{\"pod\":\"d\"},\"dt_txt\":\"2020-08-02 15:00:00\"},{\"dt\":1596391200,\"main\":{\"temp\":295.33,\"feels_like\":293.77,\"temp_min\":295.33,\"temp_max\":295.33,\"pressure\":1018,\"sea_level\":1018,\"grnd_level\":1010,\"humidity\":49,\"temp_kf\":0},\"weather\":[{\"id\":803,\"main\":\"Clouds\",\"description\":\"broken clouds\",\"icon\":\"04d\"}],\"clouds\":{\"all\":63},\"wind\":{\"speed\":2.67,\"deg\":212},\"visibility\":10000,\"pop\":0,\"sys\":{\"pod\":\"d\"},\"dt_txt\":\"2020-08-02 18:00:00\"},{\"dt\":1596402000,\"main\":{\"temp\":301.05,\"feels_like\":300.27,\"temp_min\":301.05,\"temp_max\":301.05,\"pressure\":1017,\"sea_level\":1017,\"grnd_level\":1009,\"humidity\":34,\"temp_kf\":0},\"weather\":[{\"id\":803,\"main\":\"Clouds\",\"description\":\"broken clouds\",\"icon\":\"04d\"}],\"clouds\":{\"all\":75},\"wind\":{\"speed\":1.4,\"deg\":272},\"visibility\":10000,\"pop\":0,\"sys\":{\"pod\":\"d\"},\"dt_txt\":\"2020-08-02 21:00:00\"},{\"dt\":1596412800,\"main\":{\"temp\":299.39,\"feels_like\":297.46,\"temp_min\":299.39,\"temp_max\":299.39,\"pressure\":1016,\"sea_level\":1016,\"grnd_level\":1008,\"humidity\":38,\"temp_kf\":0},\"weather\":[{\"id\":804,\"main\":\"Clouds\",\"description\":\"overcast clouds\",\"icon\":\"04d\"}],\"clouds\":{\"all\":86},\"wind\":{\"speed\":3.13,\"deg\":336},\"visibility\":10000,\"pop\":0,\"sys\":{\"pod\":\"d\"},\"dt_txt\":\"2020-08-03 00:00:00\"},{\"dt\":1596423600,\"main\":{\"temp\":294.33,\"feels_like\":292.56,\"temp_min\":294.33,\"temp_max\":294.33,\"pressure\":1017,\"sea_level\":1017,\"grnd_level\":1008,\"humidity\":51,\"temp_kf\":0},\"weather\":[{\"id\":804,\"main\":\"Clouds\",\"description\":\"overcast clouds\",\"icon\":\"04d\"}],\"clouds\":{\"all\":100},\"wind\":{\"speed\":2.85,\"deg\":6},\"visibility\":10000,\"pop\":0,\"sys\":{\"pod\":\"d\"},\"dt_txt\":\"2020-08-03 03:00:00\"},{\"dt\":1596434400,\"main\":{\"temp\":289.99,\"feels_like\":289.51,\"temp_min\":289.99,\"temp_max\":289.99,\"pressure\":1017,\"sea_level\":1017,\"grnd_level\":1008,\"humidity\":76,\"temp_kf\":0},\"weather\":[{\"id\":804,\"main\":\"Clouds\",\"description\":\"overcast clouds\",\"icon\":\"04n\"}],\"clouds\":{\"all\":100},\"wind\":{\"speed\":1.83,\"deg\":50},\"visibility\":10000,\"pop\":0,\"sys\":{\"pod\":\"n\"},\"dt_txt\":\"2020-08-03 06:00:00\"},{\"dt\":1596445200,\"main\":{\"temp\":288.36,\"feels_like\":288.71,\"temp_min\":288.36,\"temp_max\":288.36,\"pressure\":1016,\"sea_level\":1016,\"grnd_level\":1007,\"humidity\":88,\"temp_kf\":0},\"weather\":[{\"id\":802,\"main\":\"Clouds\",\"description\":\"scattered clouds\",\"icon\":\"03n\"}],\"clouds\":{\"all\":49},\"wind\":{\"speed\":0.94,\"deg\":41},\"visibility\":10000,\"pop\":0,\"sys\":{\"pod\":\"n\"},\"dt_txt\":\"2020-08-03 09:00:00\"},{\"dt\":1596456000,\"main\":{\"temp\":287.76,\"feels_like\":288.26,\"temp_min\":287.76,\"temp_max\":287.76,\"pressure\":1016,\"sea_level\":1016,\"grnd_level\":1007,\"humidity\":89,\"temp_kf\":0},\"weather\":[{\"id\":802,\"main\":\"Clouds\",\"description\":\"scattered clouds\",\"icon\":\"03n\"}],\"clouds\":{\"all\":27},\"wind\":{\"speed\":0.53,\"deg\":84},\"visibility\":10000,\"pop\":0,\"sys\":{\"pod\":\"n\"},\"dt_txt\":\"2020-08-03 12:00:00\"},{\"dt\":1596466800,\"main\":{\"temp\":291.27,\"feels_like\":291.66,\"temp_min\":291.27,\"temp_max\":291.27,\"pressure\":1016,\"sea_level\":1016,\"grnd_level\":1007,\"humidity\":74,\"temp_kf\":0},\"weather\":[{\"id\":803,\"main\":\"Clouds\",\"description\":\"broken clouds\",\"icon\":\"04d\"}],\"clouds\":{\"all\":59},\"wind\":{\"speed\":0.96,\"deg\":154},\"visibility\":10000,\"pop\":0,\"sys\":{\"pod\":\"d\"},\"dt_txt\":\"2020-08-03 15:00:00\"},{\"dt\":1596477600,\"main\":{\"temp\":297.55,\"feels_like\":297.07,\"temp_min\":297.55,\"temp_max\":297.55,\"pressure\":1016,\"sea_level\":1016,\"grnd_level\":1007,\"humidity\":49,\"temp_kf\":0},\"weather\":[{\"id\":803,\"main\":\"Clouds\",\"description\":\"broken clouds\",\"icon\":\"04d\"}],\"clouds\":{\"all\":76},\"wind\":{\"speed\":2.01,\"deg\":188},\"visibility\":10000,\"pop\":0,\"sys\":{\"pod\":\"d\"},\"dt_txt\":\"2020-08-03 18:00:00\"},{\"dt\":1596488400,\"main\":{\"temp\":295.57,\"feels_like\":295.29,\"temp_min\":295.57,\"temp_max\":295.57,\"pressure\":1016,\"sea_level\":1016,\"grnd_level\":1007,\"humidity\":58,\"temp_kf\":0},\"weather\":[{\"id\":804,\"main\":\"Clouds\",\"description\":\"overcast clouds\",\"icon\":\"04d\"}],\"clouds\":{\"all\":99},\"wind\":{\"speed\":2.08,\"deg\":250},\"visibility\":10000,\"pop\":0.14,\"sys\":{\"pod\":\"d\"},\"dt_txt\":\"2020-08-03 21:00:00\"},{\"dt\":1596499200,\"main\":{\"temp\":296.09,\"feels_like\":294.66,\"temp_min\":296.09,\"temp_max\":296.09,\"pressure\":1016,\"sea_level\":1016,\"grnd_level\":1007,\"humidity\":58,\"temp_kf\":0},\"weather\":[{\"id\":500,\"main\":\"Rain\",\"description\":\"light rain\",\"icon\":\"10d\"}],\"clouds\":{\"all\":85},\"wind\":{\"speed\":3.96,\"deg\":336},\"visibility\":10000,\"pop\":0.59,\"rain\":{\"3h\":0.22},\"sys\":{\"pod\":\"d\"},\"dt_txt\":\"2020-08-04 00:00:00\"}],\"city\":{\"id\":5809844,\"name\":\"Seattle\",\"coord\":{\"lat\":47.6062,\"lon\":-122.3321},\"country\":\"US\",\"population\":608660,\"timezone\":-25200,\"sunrise\":1596026625,\"sunset\":1596080856}}'\n"
     ]
    }
   ],
   "source": [
    "# Print the content of the response\n",
    "print(response.content)"
   ]
  },
  {
   "cell_type": "code",
   "execution_count": 23,
   "metadata": {},
   "outputs": [],
   "source": [
    "# Convert JSON document into dictionaries\n",
    "info = json.loads(response.content)"
   ]
  },
  {
   "cell_type": "code",
   "execution_count": 24,
   "metadata": {},
   "outputs": [
    {
     "name": "stdout",
     "output_type": "stream",
     "text": [
      "{'cod': '200', 'message': 0, 'cnt': 40, 'list': [{'dt': 1596078000, 'main': {'temp': 296.78, 'feels_like': 294.59, 'temp_min': 295.52, 'temp_max': 296.78, 'pressure': 1013, 'sea_level': 1013, 'grnd_level': 1004, 'humidity': 40, 'temp_kf': 1.26}, 'weather': [{'id': 800, 'main': 'Clear', 'description': 'clear sky', 'icon': '01d'}], 'clouds': {'all': 1}, 'wind': {'speed': 2.9, 'deg': 11}, 'visibility': 10000, 'pop': 0, 'sys': {'pod': 'd'}, 'dt_txt': '2020-07-30 03:00:00'}, {'dt': 1596088800, 'main': {'temp': 291.98, 'feels_like': 290.21, 'temp_min': 290.32, 'temp_max': 291.98, 'pressure': 1015, 'sea_level': 1015, 'grnd_level': 1006, 'humidity': 53, 'temp_kf': 1.66}, 'weather': [{'id': 800, 'main': 'Clear', 'description': 'clear sky', 'icon': '01n'}], 'clouds': {'all': 0}, 'wind': {'speed': 2.23, 'deg': 23}, 'visibility': 10000, 'pop': 0, 'sys': {'pod': 'n'}, 'dt_txt': '2020-07-30 06:00:00'}, {'dt': 1596099600, 'main': {'temp': 289.48, 'feels_like': 287.83, 'temp_min': 288.9, 'temp_max': 289.48, 'pressure': 1015, 'sea_level': 1015, 'grnd_level': 1006, 'humidity': 56, 'temp_kf': 0.58}, 'weather': [{'id': 800, 'main': 'Clear', 'description': 'clear sky', 'icon': '01n'}], 'clouds': {'all': 6}, 'wind': {'speed': 1.54, 'deg': 28}, 'visibility': 10000, 'pop': 0, 'sys': {'pod': 'n'}, 'dt_txt': '2020-07-30 09:00:00'}, {'dt': 1596110400, 'main': {'temp': 288.06, 'feels_like': 286.48, 'temp_min': 287.98, 'temp_max': 288.06, 'pressure': 1016, 'sea_level': 1016, 'grnd_level': 1007, 'humidity': 61, 'temp_kf': 0.08}, 'weather': [{'id': 800, 'main': 'Clear', 'description': 'clear sky', 'icon': '01n'}], 'clouds': {'all': 6}, 'wind': {'speed': 1.41, 'deg': 19}, 'visibility': 10000, 'pop': 0, 'sys': {'pod': 'n'}, 'dt_txt': '2020-07-30 12:00:00'}, {'dt': 1596121200, 'main': {'temp': 291.67, 'feels_like': 290.04, 'temp_min': 291.67, 'temp_max': 291.67, 'pressure': 1016, 'sea_level': 1016, 'grnd_level': 1007, 'humidity': 52, 'temp_kf': 0}, 'weather': [{'id': 800, 'main': 'Clear', 'description': 'clear sky', 'icon': '01d'}], 'clouds': {'all': 2}, 'wind': {'speed': 1.83, 'deg': 12}, 'visibility': 10000, 'pop': 0, 'sys': {'pod': 'd'}, 'dt_txt': '2020-07-30 15:00:00'}, {'dt': 1596132000, 'main': {'temp': 297.97, 'feels_like': 296.13, 'temp_min': 297.97, 'temp_max': 297.97, 'pressure': 1015, 'sea_level': 1015, 'grnd_level': 1007, 'humidity': 39, 'temp_kf': 0}, 'weather': [{'id': 800, 'main': 'Clear', 'description': 'clear sky', 'icon': '01d'}], 'clouds': {'all': 3}, 'wind': {'speed': 2.66, 'deg': 353}, 'visibility': 10000, 'pop': 0, 'sys': {'pod': 'd'}, 'dt_txt': '2020-07-30 18:00:00'}, {'dt': 1596142800, 'main': {'temp': 301.96, 'feels_like': 299.83, 'temp_min': 301.96, 'temp_max': 301.96, 'pressure': 1014, 'sea_level': 1014, 'grnd_level': 1005, 'humidity': 32, 'temp_kf': 0}, 'weather': [{'id': 800, 'main': 'Clear', 'description': 'clear sky', 'icon': '01d'}], 'clouds': {'all': 0}, 'wind': {'speed': 3.28, 'deg': 344}, 'visibility': 10000, 'pop': 0, 'sys': {'pod': 'd'}, 'dt_txt': '2020-07-30 21:00:00'}, {'dt': 1596153600, 'main': {'temp': 302.24, 'feels_like': 300.07, 'temp_min': 302.24, 'temp_max': 302.24, 'pressure': 1013, 'sea_level': 1013, 'grnd_level': 1005, 'humidity': 32, 'temp_kf': 0}, 'weather': [{'id': 800, 'main': 'Clear', 'description': 'clear sky', 'icon': '01d'}], 'clouds': {'all': 0}, 'wind': {'speed': 3.44, 'deg': 349}, 'visibility': 10000, 'pop': 0, 'sys': {'pod': 'd'}, 'dt_txt': '2020-07-31 00:00:00'}, {'dt': 1596164400, 'main': {'temp': 296.2, 'feels_like': 295.83, 'temp_min': 296.2, 'temp_max': 296.2, 'pressure': 1013, 'sea_level': 1013, 'grnd_level': 1005, 'humidity': 52, 'temp_kf': 0}, 'weather': [{'id': 500, 'main': 'Rain', 'description': 'light rain', 'icon': '10d'}], 'clouds': {'all': 7}, 'wind': {'speed': 1.7, 'deg': 12}, 'visibility': 10000, 'pop': 0.44, 'rain': {'3h': 0.36}, 'sys': {'pod': 'd'}, 'dt_txt': '2020-07-31 03:00:00'}, {'dt': 1596175200, 'main': {'temp': 291.71, 'feels_like': 292.1, 'temp_min': 291.71, 'temp_max': 291.71, 'pressure': 1015, 'sea_level': 1015, 'grnd_level': 1006, 'humidity': 72, 'temp_kf': 0}, 'weather': [{'id': 500, 'main': 'Rain', 'description': 'light rain', 'icon': '10n'}], 'clouds': {'all': 24}, 'wind': {'speed': 0.96, 'deg': 351}, 'visibility': 10000, 'pop': 0.64, 'rain': {'3h': 0.41}, 'sys': {'pod': 'n'}, 'dt_txt': '2020-07-31 06:00:00'}, {'dt': 1596186000, 'main': {'temp': 290.16, 'feels_like': 290.78, 'temp_min': 290.16, 'temp_max': 290.16, 'pressure': 1014, 'sea_level': 1014, 'grnd_level': 1005, 'humidity': 76, 'temp_kf': 0}, 'weather': [{'id': 800, 'main': 'Clear', 'description': 'clear sky', 'icon': '01n'}], 'clouds': {'all': 0}, 'wind': {'speed': 0.33, 'deg': 158}, 'visibility': 10000, 'pop': 0, 'sys': {'pod': 'n'}, 'dt_txt': '2020-07-31 09:00:00'}, {'dt': 1596196800, 'main': {'temp': 289.43, 'feels_like': 289.44, 'temp_min': 289.43, 'temp_max': 289.43, 'pressure': 1014, 'sea_level': 1014, 'grnd_level': 1005, 'humidity': 77, 'temp_kf': 0}, 'weather': [{'id': 801, 'main': 'Clouds', 'description': 'few clouds', 'icon': '02n'}], 'clouds': {'all': 16}, 'wind': {'speed': 0.97, 'deg': 227}, 'visibility': 10000, 'pop': 0, 'sys': {'pod': 'n'}, 'dt_txt': '2020-07-31 12:00:00'}, {'dt': 1596207600, 'main': {'temp': 291.73, 'feels_like': 291.37, 'temp_min': 291.73, 'temp_max': 291.73, 'pressure': 1014, 'sea_level': 1014, 'grnd_level': 1005, 'humidity': 68, 'temp_kf': 0}, 'weather': [{'id': 500, 'main': 'Rain', 'description': 'light rain', 'icon': '10d'}], 'clouds': {'all': 6}, 'wind': {'speed': 1.65, 'deg': 197}, 'visibility': 10000, 'pop': 0.21, 'rain': {'3h': 0.15}, 'sys': {'pod': 'd'}, 'dt_txt': '2020-07-31 15:00:00'}, {'dt': 1596218400, 'main': {'temp': 298.97, 'feels_like': 297.45, 'temp_min': 298.97, 'temp_max': 298.97, 'pressure': 1014, 'sea_level': 1014, 'grnd_level': 1006, 'humidity': 38, 'temp_kf': 0}, 'weather': [{'id': 801, 'main': 'Clouds', 'description': 'few clouds', 'icon': '02d'}], 'clouds': {'all': 11}, 'wind': {'speed': 2.39, 'deg': 199}, 'visibility': 10000, 'pop': 0.01, 'sys': {'pod': 'd'}, 'dt_txt': '2020-07-31 18:00:00'}, {'dt': 1596229200, 'main': {'temp': 303.69, 'feels_like': 302.05, 'temp_min': 303.69, 'temp_max': 303.69, 'pressure': 1015, 'sea_level': 1015, 'grnd_level': 1006, 'humidity': 29, 'temp_kf': 0}, 'weather': [{'id': 803, 'main': 'Clouds', 'description': 'broken clouds', 'icon': '04d'}], 'clouds': {'all': 60}, 'wind': {'speed': 2.59, 'deg': 222}, 'visibility': 10000, 'pop': 0, 'sys': {'pod': 'd'}, 'dt_txt': '2020-07-31 21:00:00'}, {'dt': 1596240000, 'main': {'temp': 301.92, 'feels_like': 300.53, 'temp_min': 301.92, 'temp_max': 301.92, 'pressure': 1015, 'sea_level': 1015, 'grnd_level': 1006, 'humidity': 34, 'temp_kf': 0}, 'weather': [{'id': 802, 'main': 'Clouds', 'description': 'scattered clouds', 'icon': '03d'}], 'clouds': {'all': 47}, 'wind': {'speed': 2.59, 'deg': 255}, 'visibility': 10000, 'pop': 0, 'sys': {'pod': 'd'}, 'dt_txt': '2020-08-01 00:00:00'}, {'dt': 1596250800, 'main': {'temp': 294.98, 'feels_like': 295.28, 'temp_min': 294.98, 'temp_max': 294.98, 'pressure': 1016, 'sea_level': 1016, 'grnd_level': 1007, 'humidity': 55, 'temp_kf': 0}, 'weather': [{'id': 802, 'main': 'Clouds', 'description': 'scattered clouds', 'icon': '03d'}], 'clouds': {'all': 38}, 'wind': {'speed': 0.63, 'deg': 267}, 'visibility': 10000, 'pop': 0, 'sys': {'pod': 'd'}, 'dt_txt': '2020-08-01 03:00:00'}, {'dt': 1596261600, 'main': {'temp': 289.75, 'feels_like': 289.68, 'temp_min': 289.75, 'temp_max': 289.75, 'pressure': 1017, 'sea_level': 1017, 'grnd_level': 1008, 'humidity': 76, 'temp_kf': 0}, 'weather': [{'id': 802, 'main': 'Clouds', 'description': 'scattered clouds', 'icon': '03n'}], 'clouds': {'all': 39}, 'wind': {'speed': 1.14, 'deg': 177}, 'visibility': 10000, 'pop': 0, 'sys': {'pod': 'n'}, 'dt_txt': '2020-08-01 06:00:00'}, {'dt': 1596272400, 'main': {'temp': 288.05, 'feels_like': 287.82, 'temp_min': 288.05, 'temp_max': 288.05, 'pressure': 1017, 'sea_level': 1017, 'grnd_level': 1008, 'humidity': 86, 'temp_kf': 0}, 'weather': [{'id': 803, 'main': 'Clouds', 'description': 'broken clouds', 'icon': '04n'}], 'clouds': {'all': 54}, 'wind': {'speed': 1.47, 'deg': 175}, 'visibility': 10000, 'pop': 0, 'sys': {'pod': 'n'}, 'dt_txt': '2020-08-01 09:00:00'}, {'dt': 1596283200, 'main': {'temp': 287.74, 'feels_like': 287.46, 'temp_min': 287.74, 'temp_max': 287.74, 'pressure': 1018, 'sea_level': 1018, 'grnd_level': 1009, 'humidity': 88, 'temp_kf': 0}, 'weather': [{'id': 803, 'main': 'Clouds', 'description': 'broken clouds', 'icon': '04n'}], 'clouds': {'all': 77}, 'wind': {'speed': 1.56, 'deg': 196}, 'visibility': 10000, 'pop': 0, 'sys': {'pod': 'n'}, 'dt_txt': '2020-08-01 12:00:00'}, {'dt': 1596294000, 'main': {'temp': 289.71, 'feels_like': 289.28, 'temp_min': 289.71, 'temp_max': 289.71, 'pressure': 1018, 'sea_level': 1018, 'grnd_level': 1009, 'humidity': 78, 'temp_kf': 0}, 'weather': [{'id': 803, 'main': 'Clouds', 'description': 'broken clouds', 'icon': '04d'}], 'clouds': {'all': 58}, 'wind': {'speed': 1.81, 'deg': 188}, 'visibility': 10000, 'pop': 0, 'sys': {'pod': 'd'}, 'dt_txt': '2020-08-01 15:00:00'}, {'dt': 1596304800, 'main': {'temp': 294.65, 'feels_like': 294.07, 'temp_min': 294.65, 'temp_max': 294.65, 'pressure': 1017, 'sea_level': 1017, 'grnd_level': 1009, 'humidity': 57, 'temp_kf': 0}, 'weather': [{'id': 803, 'main': 'Clouds', 'description': 'broken clouds', 'icon': '04d'}], 'clouds': {'all': 61}, 'wind': {'speed': 1.99, 'deg': 233}, 'visibility': 10000, 'pop': 0, 'sys': {'pod': 'd'}, 'dt_txt': '2020-08-01 18:00:00'}, {'dt': 1596315600, 'main': {'temp': 300.59, 'feels_like': 300.15, 'temp_min': 300.59, 'temp_max': 300.59, 'pressure': 1016, 'sea_level': 1016, 'grnd_level': 1008, 'humidity': 39, 'temp_kf': 0}, 'weather': [{'id': 802, 'main': 'Clouds', 'description': 'scattered clouds', 'icon': '03d'}], 'clouds': {'all': 49}, 'wind': {'speed': 1.62, 'deg': 296}, 'visibility': 10000, 'pop': 0, 'sys': {'pod': 'd'}, 'dt_txt': '2020-08-01 21:00:00'}, {'dt': 1596326400, 'main': {'temp': 298.79, 'feels_like': 297.47, 'temp_min': 298.79, 'temp_max': 298.79, 'pressure': 1016, 'sea_level': 1016, 'grnd_level': 1007, 'humidity': 42, 'temp_kf': 0}, 'weather': [{'id': 803, 'main': 'Clouds', 'description': 'broken clouds', 'icon': '04d'}], 'clouds': {'all': 74}, 'wind': {'speed': 2.66, 'deg': 333}, 'visibility': 10000, 'pop': 0, 'sys': {'pod': 'd'}, 'dt_txt': '2020-08-02 00:00:00'}, {'dt': 1596337200, 'main': {'temp': 294.59, 'feels_like': 293.84, 'temp_min': 294.59, 'temp_max': 294.59, 'pressure': 1017, 'sea_level': 1017, 'grnd_level': 1008, 'humidity': 56, 'temp_kf': 0}, 'weather': [{'id': 803, 'main': 'Clouds', 'description': 'broken clouds', 'icon': '04d'}], 'clouds': {'all': 73}, 'wind': {'speed': 2.09, 'deg': 355}, 'visibility': 10000, 'pop': 0, 'sys': {'pod': 'd'}, 'dt_txt': '2020-08-02 03:00:00'}, {'dt': 1596348000, 'main': {'temp': 289.56, 'feels_like': 290.19, 'temp_min': 289.56, 'temp_max': 289.56, 'pressure': 1017, 'sea_level': 1017, 'grnd_level': 1009, 'humidity': 77, 'temp_kf': 0}, 'weather': [{'id': 802, 'main': 'Clouds', 'description': 'scattered clouds', 'icon': '03n'}], 'clouds': {'all': 36}, 'wind': {'speed': 0.15, 'deg': 97}, 'visibility': 10000, 'pop': 0, 'sys': {'pod': 'n'}, 'dt_txt': '2020-08-02 06:00:00'}, {'dt': 1596358800, 'main': {'temp': 287.79, 'feels_like': 287.96, 'temp_min': 287.79, 'temp_max': 287.79, 'pressure': 1018, 'sea_level': 1018, 'grnd_level': 1009, 'humidity': 86, 'temp_kf': 0}, 'weather': [{'id': 800, 'main': 'Clear', 'description': 'clear sky', 'icon': '01n'}], 'clouds': {'all': 2}, 'wind': {'speed': 0.78, 'deg': 181}, 'visibility': 10000, 'pop': 0, 'sys': {'pod': 'n'}, 'dt_txt': '2020-08-02 09:00:00'}, {'dt': 1596369600, 'main': {'temp': 286.88, 'feels_like': 286.36, 'temp_min': 286.88, 'temp_max': 286.88, 'pressure': 1018, 'sea_level': 1018, 'grnd_level': 1009, 'humidity': 89, 'temp_kf': 0}, 'weather': [{'id': 800, 'main': 'Clear', 'description': 'clear sky', 'icon': '01n'}], 'clouds': {'all': 7}, 'wind': {'speed': 1.6, 'deg': 195}, 'visibility': 10000, 'pop': 0, 'sys': {'pod': 'n'}, 'dt_txt': '2020-08-02 12:00:00'}, {'dt': 1596380400, 'main': {'temp': 289.23, 'feels_like': 288.18, 'temp_min': 289.23, 'temp_max': 289.23, 'pressure': 1019, 'sea_level': 1019, 'grnd_level': 1010, 'humidity': 77, 'temp_kf': 0}, 'weather': [{'id': 803, 'main': 'Clouds', 'description': 'broken clouds', 'icon': '04d'}], 'clouds': {'all': 55}, 'wind': {'speed': 2.4, 'deg': 193}, 'visibility': 10000, 'pop': 0, 'sys': {'pod': 'd'}, 'dt_txt': '2020-08-02 15:00:00'}, {'dt': 1596391200, 'main': {'temp': 295.33, 'feels_like': 293.77, 'temp_min': 295.33, 'temp_max': 295.33, 'pressure': 1018, 'sea_level': 1018, 'grnd_level': 1010, 'humidity': 49, 'temp_kf': 0}, 'weather': [{'id': 803, 'main': 'Clouds', 'description': 'broken clouds', 'icon': '04d'}], 'clouds': {'all': 63}, 'wind': {'speed': 2.67, 'deg': 212}, 'visibility': 10000, 'pop': 0, 'sys': {'pod': 'd'}, 'dt_txt': '2020-08-02 18:00:00'}, {'dt': 1596402000, 'main': {'temp': 301.05, 'feels_like': 300.27, 'temp_min': 301.05, 'temp_max': 301.05, 'pressure': 1017, 'sea_level': 1017, 'grnd_level': 1009, 'humidity': 34, 'temp_kf': 0}, 'weather': [{'id': 803, 'main': 'Clouds', 'description': 'broken clouds', 'icon': '04d'}], 'clouds': {'all': 75}, 'wind': {'speed': 1.4, 'deg': 272}, 'visibility': 10000, 'pop': 0, 'sys': {'pod': 'd'}, 'dt_txt': '2020-08-02 21:00:00'}, {'dt': 1596412800, 'main': {'temp': 299.39, 'feels_like': 297.46, 'temp_min': 299.39, 'temp_max': 299.39, 'pressure': 1016, 'sea_level': 1016, 'grnd_level': 1008, 'humidity': 38, 'temp_kf': 0}, 'weather': [{'id': 804, 'main': 'Clouds', 'description': 'overcast clouds', 'icon': '04d'}], 'clouds': {'all': 86}, 'wind': {'speed': 3.13, 'deg': 336}, 'visibility': 10000, 'pop': 0, 'sys': {'pod': 'd'}, 'dt_txt': '2020-08-03 00:00:00'}, {'dt': 1596423600, 'main': {'temp': 294.33, 'feels_like': 292.56, 'temp_min': 294.33, 'temp_max': 294.33, 'pressure': 1017, 'sea_level': 1017, 'grnd_level': 1008, 'humidity': 51, 'temp_kf': 0}, 'weather': [{'id': 804, 'main': 'Clouds', 'description': 'overcast clouds', 'icon': '04d'}], 'clouds': {'all': 100}, 'wind': {'speed': 2.85, 'deg': 6}, 'visibility': 10000, 'pop': 0, 'sys': {'pod': 'd'}, 'dt_txt': '2020-08-03 03:00:00'}, {'dt': 1596434400, 'main': {'temp': 289.99, 'feels_like': 289.51, 'temp_min': 289.99, 'temp_max': 289.99, 'pressure': 1017, 'sea_level': 1017, 'grnd_level': 1008, 'humidity': 76, 'temp_kf': 0}, 'weather': [{'id': 804, 'main': 'Clouds', 'description': 'overcast clouds', 'icon': '04n'}], 'clouds': {'all': 100}, 'wind': {'speed': 1.83, 'deg': 50}, 'visibility': 10000, 'pop': 0, 'sys': {'pod': 'n'}, 'dt_txt': '2020-08-03 06:00:00'}, {'dt': 1596445200, 'main': {'temp': 288.36, 'feels_like': 288.71, 'temp_min': 288.36, 'temp_max': 288.36, 'pressure': 1016, 'sea_level': 1016, 'grnd_level': 1007, 'humidity': 88, 'temp_kf': 0}, 'weather': [{'id': 802, 'main': 'Clouds', 'description': 'scattered clouds', 'icon': '03n'}], 'clouds': {'all': 49}, 'wind': {'speed': 0.94, 'deg': 41}, 'visibility': 10000, 'pop': 0, 'sys': {'pod': 'n'}, 'dt_txt': '2020-08-03 09:00:00'}, {'dt': 1596456000, 'main': {'temp': 287.76, 'feels_like': 288.26, 'temp_min': 287.76, 'temp_max': 287.76, 'pressure': 1016, 'sea_level': 1016, 'grnd_level': 1007, 'humidity': 89, 'temp_kf': 0}, 'weather': [{'id': 802, 'main': 'Clouds', 'description': 'scattered clouds', 'icon': '03n'}], 'clouds': {'all': 27}, 'wind': {'speed': 0.53, 'deg': 84}, 'visibility': 10000, 'pop': 0, 'sys': {'pod': 'n'}, 'dt_txt': '2020-08-03 12:00:00'}, {'dt': 1596466800, 'main': {'temp': 291.27, 'feels_like': 291.66, 'temp_min': 291.27, 'temp_max': 291.27, 'pressure': 1016, 'sea_level': 1016, 'grnd_level': 1007, 'humidity': 74, 'temp_kf': 0}, 'weather': [{'id': 803, 'main': 'Clouds', 'description': 'broken clouds', 'icon': '04d'}], 'clouds': {'all': 59}, 'wind': {'speed': 0.96, 'deg': 154}, 'visibility': 10000, 'pop': 0, 'sys': {'pod': 'd'}, 'dt_txt': '2020-08-03 15:00:00'}, {'dt': 1596477600, 'main': {'temp': 297.55, 'feels_like': 297.07, 'temp_min': 297.55, 'temp_max': 297.55, 'pressure': 1016, 'sea_level': 1016, 'grnd_level': 1007, 'humidity': 49, 'temp_kf': 0}, 'weather': [{'id': 803, 'main': 'Clouds', 'description': 'broken clouds', 'icon': '04d'}], 'clouds': {'all': 76}, 'wind': {'speed': 2.01, 'deg': 188}, 'visibility': 10000, 'pop': 0, 'sys': {'pod': 'd'}, 'dt_txt': '2020-08-03 18:00:00'}, {'dt': 1596488400, 'main': {'temp': 295.57, 'feels_like': 295.29, 'temp_min': 295.57, 'temp_max': 295.57, 'pressure': 1016, 'sea_level': 1016, 'grnd_level': 1007, 'humidity': 58, 'temp_kf': 0}, 'weather': [{'id': 804, 'main': 'Clouds', 'description': 'overcast clouds', 'icon': '04d'}], 'clouds': {'all': 99}, 'wind': {'speed': 2.08, 'deg': 250}, 'visibility': 10000, 'pop': 0.14, 'sys': {'pod': 'd'}, 'dt_txt': '2020-08-03 21:00:00'}, {'dt': 1596499200, 'main': {'temp': 296.09, 'feels_like': 294.66, 'temp_min': 296.09, 'temp_max': 296.09, 'pressure': 1016, 'sea_level': 1016, 'grnd_level': 1007, 'humidity': 58, 'temp_kf': 0}, 'weather': [{'id': 500, 'main': 'Rain', 'description': 'light rain', 'icon': '10d'}], 'clouds': {'all': 85}, 'wind': {'speed': 3.96, 'deg': 336}, 'visibility': 10000, 'pop': 0.59, 'rain': {'3h': 0.22}, 'sys': {'pod': 'd'}, 'dt_txt': '2020-08-04 00:00:00'}], 'city': {'id': 5809844, 'name': 'Seattle', 'coord': {'lat': 47.6062, 'lon': -122.3321}, 'country': 'US', 'population': 608660, 'timezone': -25200, 'sunrise': 1596026625, 'sunset': 1596080856}}\n"
     ]
    }
   ],
   "source": [
    "# Print the dicitionary\n",
    "print(info)"
   ]
  },
  {
   "cell_type": "markdown",
   "metadata": {},
   "source": [
    "## Part IV - Linking API Calls\n",
    "\n",
    "Now that we have seen how to make an API call for a single request. We would like to briefly talk about linking API calls. This strategy revolves around chaining information between APIs to generate complex processes with minimal coding. With the countless APIs on the market today, creating such a software is more feasible than ever. Here we have pulled up [RapidAPI.com](https://rapidapi.com/), which is a marketplace that contains hundreds of free APIs for software developers. \n",
    "<br>\n",
    "<br>\n",
    "<div>\n",
    "    <img src=\"images/RapidAPI.png\"/>\n",
    "</div>\n",
    "<br>\n",
    "\n",
    "This can be a creative playground for cool projects. There is APIs for text messaging, weather info, recipes, text analysis, and facial recognition. So for example, by linking APIs we could create a program that could receive texts using Twilio's API that contain a food article then reduce the article to just key ingredient names with text analysis API. And finally, generate a recipe based off the initial article we texted in using a food recipe API. This complex process can be generated with just three API calls, which we have discovered is quite a simple process. So hopefully armed with this context, you can venture forth and complete your own complex processes using multiple APIs."
   ]
  },
  {
   "cell_type": "code",
   "execution_count": null,
   "metadata": {},
   "outputs": [],
   "source": []
  }
 ],
 "metadata": {
  "kernelspec": {
   "display_name": "Python 3",
   "language": "python",
   "name": "python3"
  },
  "language_info": {
   "codemirror_mode": {
    "name": "ipython",
    "version": 3
   },
   "file_extension": ".py",
   "mimetype": "text/x-python",
   "name": "python",
   "nbconvert_exporter": "python",
   "pygments_lexer": "ipython3",
   "version": "3.7.1"
  }
 },
 "nbformat": 4,
 "nbformat_minor": 2
}
