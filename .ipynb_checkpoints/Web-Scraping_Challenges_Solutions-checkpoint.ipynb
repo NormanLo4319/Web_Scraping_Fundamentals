{
 "cells": [
  {
   "cell_type": "markdown",
   "metadata": {},
   "source": [
    "# Challenge I - Parsing the HTML DOM Structure\n",
    "\n",
    "1. Go to http://www.seleniumhp.org/\n",
    "2. Locate the element by id \"banner-blm\" and print it\n",
    "3. Locate the element by name \"search\" and print it\n",
    "4. Locate the element heading \"Selenium automates broswers. That's it!\" by Xpath and print it\n",
    "5. Find element by class \"selenium-backers\" and print it"
   ]
  },
  {
   "cell_type": "code",
   "execution_count": null,
   "metadata": {},
   "outputs": [],
   "source": [
    "# Import the dependencies\n",
    "from selenium import webdriver"
   ]
  },
  {
   "cell_type": "code",
   "execution_count": null,
   "metadata": {},
   "outputs": [],
   "source": [
    "# Seting up the web driver\n",
    "driver = webdriver.Chrome()\n",
    "driver.get(\"http://www.seleniumhq.org\")"
   ]
  },
  {
   "cell_type": "code",
   "execution_count": null,
   "metadata": {},
   "outputs": [],
   "source": [
    "# Find the element by id\n",
    "element_id = driver.find_element_by_id('banner-blm')\n",
    "print(element_id)"
   ]
  },
  {
   "cell_type": "code",
   "execution_count": null,
   "metadata": {},
   "outputs": [],
   "source": [
    "# Find the element by name\n",
    "element_name = driver.find_element_by_name('search')\n",
    "print(element_name)"
   ]
  },
  {
   "cell_type": "code",
   "execution_count": null,
   "metadata": {},
   "outputs": [],
   "source": [
    "# Find the element by heading\n",
    "heading_xpath = driver.find_element_by_xpath(\"//Section[@class='hero homepage']/h1[1]\")\n",
    "print(heading_xpath)"
   ]
  },
  {
   "cell_type": "code",
   "execution_count": null,
   "metadata": {},
   "outputs": [],
   "source": [
    "# Find the element by class\n",
    "element_classname = driver.find_element_by_class_name('selenium-backers')\n",
    "print(element_classname)"
   ]
  },
  {
   "cell_type": "code",
   "execution_count": null,
   "metadata": {},
   "outputs": [],
   "source": [
    "# Close the web driver\n",
    "driver.close()"
   ]
  },
  {
   "cell_type": "markdown",
   "metadata": {},
   "source": [
    "# Challenge II - Navigating through Pages\n",
    "\n",
    "1. Go to https://wiki.python.org/moin/FrontPage\n",
    "2. Perform a search for the text \"Beginner\"\n",
    "3. In the left-side menu bar, change the value of the select from \"More Options\" to Raw Text"
   ]
  },
  {
   "cell_type": "code",
   "execution_count": null,
   "metadata": {},
   "outputs": [],
   "source": [
    "# Import the dependencies\n",
    "from selenium import webdriver\n",
    "from selenium.webdriver.common.keys import Keys\n",
    "from selenium.webdriver.support.ui import Select\n",
    "import time"
   ]
  },
  {
   "cell_type": "code",
   "execution_count": null,
   "metadata": {},
   "outputs": [],
   "source": [
    "# Setting up the web driver\n",
    "driver = webdriver.Chrome()\n",
    "driver.get('https://wiki.python.org/moin/FrontPage')"
   ]
  },
  {
   "cell_type": "code",
   "execution_count": null,
   "metadata": {},
   "outputs": [],
   "source": [
    "# Find the element by id \"searchinput\"\n",
    "searchBox = driver.find_element_by_id('searchinput')"
   ]
  },
  {
   "cell_type": "code",
   "execution_count": null,
   "metadata": {},
   "outputs": [],
   "source": [
    "# Clear the search box\n",
    "searchBox.clear()"
   ]
  },
  {
   "cell_type": "code",
   "execution_count": null,
   "metadata": {},
   "outputs": [],
   "source": [
    "# Input the search word \"Beginner\" to the search box\n",
    "searchBox.send_keys('Beginner')\n",
    "searchBox.send_keys(Keys.RETURN)"
   ]
  },
  {
   "cell_type": "code",
   "execution_count": null,
   "metadata": {},
   "outputs": [],
   "source": [
    "# Wait for 5 seconds\n",
    "time.sleep(5)"
   ]
  },
  {
   "cell_type": "code",
   "execution_count": null,
   "metadata": {},
   "outputs": [],
   "source": [
    "# Select the menu bar element by xpath\n",
    "select = Select(driver.find_element_by_xpath('//*/form[@class=\"actionsmenu\"]/div/select'))"
   ]
  },
  {
   "cell_type": "code",
   "execution_count": null,
   "metadata": {},
   "outputs": [],
   "source": [
    "# Select the element by visible text \"Raw Text\"\n",
    "select.select_by_visible_text(\"Raw Text\")"
   ]
  },
  {
   "cell_type": "code",
   "execution_count": null,
   "metadata": {},
   "outputs": [],
   "source": [
    "# Wait for 5 seconds\n",
    "time.sleep(5)"
   ]
  },
  {
   "cell_type": "code",
   "execution_count": null,
   "metadata": {},
   "outputs": [],
   "source": [
    "# Close the web driver\n",
    "driver.close()"
   ]
  }
 ],
 "metadata": {
  "kernelspec": {
   "display_name": "Python 3",
   "language": "python",
   "name": "python3"
  },
  "language_info": {
   "codemirror_mode": {
    "name": "ipython",
    "version": 3
   },
   "file_extension": ".py",
   "mimetype": "text/x-python",
   "name": "python",
   "nbconvert_exporter": "python",
   "pygments_lexer": "ipython3",
   "version": "3.7.1"
  }
 },
 "nbformat": 4,
 "nbformat_minor": 2
}
