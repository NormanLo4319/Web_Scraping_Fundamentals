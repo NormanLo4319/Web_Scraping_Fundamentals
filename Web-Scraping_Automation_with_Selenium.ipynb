{
 "cells": [
  {
   "cell_type": "markdown",
   "metadata": {},
   "source": [
    "# Web Scraping Automation with Selenium\n",
    "\n",
    "### Why automate web browsing?\n",
    "There are two main purposes to automate web browsing,\n",
    "\n",
    "1. Test website functionality, which is usually implemented by web developer automating testing to reduce the cost and time, while also providing a means of round the clock testing. It also makes cross-browser proofing easier.\n",
    "\n",
    "2. Botting Processes, a piece of software that executes commands or perform routine tasks without the user intervention. This can be applied to any repetitive task online, such as order take-out everyday from a website, filling out forms, logging in, etc. \n",
    "\n",
    "**Selenium** is a Python package that provides a simple API to write functional/acceptance tests using Selenium WebDriver.  Through Selenium Python API people can access all functionalities of Selenium Web Driver in an intuitive way.  \n",
    "\n",
    "Resource: https://selenium-python.readthedocs.io/\n",
    "\n",
    "Additionally, Selenium interfaces with the internet by using a web driver, which is a browser that Selenium can use to automate web processes. The two we recommend using are **Chrome Driver**, which runs Google Chrome or **Gecko Driver**, which runs Firefox. You can select whichever browser you feel more comfortable with, and use a package installer to download either one of the drivers. FYI, we use Chrome Driver in the demonstration.\n",
    "\n",
    "Chromedriver: https://chromedriver.chromium.org  \n",
    "Geckodriver: https://github.com/mozilla/geckodriver\n",
    "\n",
    "\n",
    "## Part I - Basic Browser Interaction\n",
    "\n",
    "In this section, we demonstrate the basic browser interaction with Selenium and Google Chrome Driver. It covers how to open a browser and basics of how Selenium interacts with the web. To test our code, we use this website, [Selenium Easy](https://www.seleniumeasy.com/test/basic-first-form-demo.html), where we can practice implementing some of the basic Selenium functions.\n",
    "\n",
    "<br>\n",
    "<br>\n",
    "<div>\n",
    "    <img src=\"images/SeleniumEasy.png\"/>\n",
    "</div>\n",
    "<br>\n",
    "<br>\n",
    "\n",
    "We use the **Simple Form Demo** as our example for testing the code. You can assess to the page by selecting **All Examples** >> **Input Form** >> **Simple Form Demo** under the Menu List on the left side of the screen."
   ]
  },
  {
   "cell_type": "code",
   "execution_count": null,
   "metadata": {},
   "outputs": [],
   "source": [
    "# Import the dependencies\n",
    "from selenium import webdriver"
   ]
  },
  {
   "cell_type": "code",
   "execution_count": null,
   "metadata": {},
   "outputs": [],
   "source": [
    "# Initialize the webdriver\n",
    "driver = webdriver.Chrome()"
   ]
  },
  {
   "cell_type": "code",
   "execution_count": null,
   "metadata": {},
   "outputs": [],
   "source": [
    "# Open up the URL\n",
    "driver.get('https://www.seleniumeasy.com/test/basic-first-form-demo.html')"
   ]
  },
  {
   "cell_type": "markdown",
   "metadata": {},
   "source": [
    "#### Let's interacting with this page\n",
    "\n",
    "There is a couple fields we can interact with on this page. The first is the message board, or single input field. The second is the two input fields.\n",
    "\n",
    "Lets just try writing the classic \"Hello World\" line in a single input field. To get a message to display, we need to first type a string, then we need to click the \"Show Message\" button. Translating this to Python, the first step is to tell the program what element we want to interact with. The easiest way to do this is use the inspector tool.\n",
    "\n",
    "<br>\n",
    "<br>\n",
    "<div>\n",
    "    <img src=\"images/SeleniumEasy1.png\"/>\n",
    "</div>\n",
    "<br>\n",
    "<br>\n",
    "\n",
    "Once we find the element in the HTML document, go ahead and right click, copy, and copy xpath. **xpath** is element specific, which allow Selenium to find the HTML item."
   ]
  },
  {
   "cell_type": "code",
   "execution_count": null,
   "metadata": {},
   "outputs": [],
   "source": [
    "# Find element by xpath\n",
    "messageField = driver.find_element_by_xpath('//*[@id=\"sum1\"]')"
   ]
  },
  {
   "cell_type": "code",
   "execution_count": null,
   "metadata": {},
   "outputs": [],
   "source": [
    "# Pass a string to the message field using the send keys method\n",
    "messageField.send_keys('Hello World')"
   ]
  },
  {
   "cell_type": "markdown",
   "metadata": {},
   "source": [
    "Now that we find the message field and input the string into the field. We can then follow the same logic to identify the \"Show Message\" button from the HTML document and copy the xpath."
   ]
  },
  {
   "cell_type": "code",
   "execution_count": null,
   "metadata": {},
   "outputs": [],
   "source": [
    "# Click the Show Message button\n",
    "showMessageButton = driver.find_element_by_xpath('//*[@id=\"get-input\"]/button')"
   ]
  },
  {
   "cell_type": "code",
   "execution_count": null,
   "metadata": {},
   "outputs": [],
   "source": [
    "# Click on the button using click()\n",
    "showMessageButton.click()"
   ]
  },
  {
   "cell_type": "markdown",
   "metadata": {},
   "source": [
    "Next up, lets try interacting with the two input fields. Similarly to the first process, we can send keys to the two input fields and then click the get total button."
   ]
  },
  {
   "cell_type": "code",
   "execution_count": null,
   "metadata": {},
   "outputs": [],
   "source": [
    "# Input the first number to the first field\n",
    "additionField1 = driver.find_element_by_xpath('//*[@id=\"sum1\"]')\n",
    "additionField1.send_keys('10')"
   ]
  },
  {
   "cell_type": "code",
   "execution_count": null,
   "metadata": {},
   "outputs": [],
   "source": [
    "# Input the first number to the second field\n",
    "additionField2 = driver.find_element_by_xpath('//*[@id=\"sum2\"]')\n",
    "additionField2.send_keys('20')"
   ]
  },
  {
   "cell_type": "code",
   "execution_count": null,
   "metadata": {},
   "outputs": [],
   "source": [
    "# Click the \"Get Total\" button\n",
    "getTotalButton = driver.find_element_by_xpath('//*[@id=\"gettotal\"]/button')\n",
    "getTotalButton.click()"
   ]
  },
  {
   "cell_type": "markdown",
   "metadata": {},
   "source": [
    "## Part II - Handling Drag and Drop\n",
    "\n",
    "Most actions performed with Selenium can be accomplished with a single function. For a more challenging web driver action, we explore to use Selenium for drag and drop action. As we know, this action consists of three basic steps. First, an object or text must be **selected**. Then it must be **drag** to the desired position. And finally **dropped** into a place. To accomplish this task, we need a **source element** that we want to drag and a **destination element** we want to drop to. \n",
    "\n",
    "To demo our code, we use this [dhtmlgoodies webpage](http://www.dhtmlgoodies.com/scripts/drag-drop-custom/demo-drag-drop-3.html), which will act as a practice ground for our script.\n",
    "<br>\n",
    "<br>\n",
    "<div>\n",
    "    <img src=\"images/dhtmlgoodies.png\"/>\n",
    "</div>\n",
    "<br>\n",
    "<br>"
   ]
  },
  {
   "cell_type": "code",
   "execution_count": null,
   "metadata": {},
   "outputs": [],
   "source": [
    "# Import the dependency\n",
    "from selenium import webdriver\n",
    "from selenium.webdriver.common.action_chains import ActionChains"
   ]
  },
  {
   "cell_type": "code",
   "execution_count": null,
   "metadata": {},
   "outputs": [],
   "source": [
    "# Create a web driver\n",
    "driver = webdriver.Chrome()"
   ]
  },
  {
   "cell_type": "code",
   "execution_count": null,
   "metadata": {},
   "outputs": [],
   "source": [
    "# Maximize the window\n",
    "driver.maximize_window()"
   ]
  },
  {
   "cell_type": "code",
   "execution_count": null,
   "metadata": {},
   "outputs": [],
   "source": [
    "# Open up the URL\n",
    "driver.get('http://www.dhtmlgoodies.com/scripts/drag-drop-custom/demo-drag-drop-3.html')"
   ]
  },
  {
   "cell_type": "code",
   "execution_count": null,
   "metadata": {},
   "outputs": [],
   "source": [
    "# Specify the source and destination element\n",
    "source = driver.find_element_by_xpath('//*[@id=\"box3\"]')\n",
    "dest = driver.find_element_by_xpath('//*[@id=\"box103\"]')"
   ]
  },
  {
   "cell_type": "code",
   "execution_count": null,
   "metadata": {},
   "outputs": [],
   "source": [
    "# Use Action Chains to drag and drop\n",
    "actions = ActionChains(driver)\n",
    "actions.drag_and_drop(source, dest).perform()"
   ]
  },
  {
   "cell_type": "markdown",
   "metadata": {},
   "source": [
    "## Part III - Selenium Implicit Wait Functions\n",
    "\n",
    "The problem with scraping modern day websites is many of them use asynchronous techniques, like Ajax, to load their webpages. This method allows web servers to update parts of their webpage without reloading the entire thing, so that they are able to create fast loading and dynamic webpages. However, this becomes a problem when Selenium web driver tries to locate a web element before it's loaded. This causes an exception with our script and our program not working. This transitions us into why we need **wait functions**. **Wait function** adds crucial time intervals in between actions performed, thus allowing the web driver to wait until an element is loaded before it interacts with it. Selenium offers two types of wait, **explicit** and **implicit**. \n",
    "\n",
    "**Explicit wait**: When paired with a condition, the program wait until that condition is satisfied before executing.\n",
    "\n",
    "**Implicit wait**: Try to pull the DOM for a certain amount of time until the element is available.\n",
    "\n",
    "## Implicit Wait Function\n",
    "\n",
    "To practice implementing wait functions, we are going to explore [Google Earth](https://www.google.com/earth/), which uses Ajas to loads its elements. Navigating to their website, you can see when we initially load the webpage the top banner appears slightly after the rest of the page is loaded in.\n",
    "<br>\n",
    "<br>\n",
    "<div>\n",
    "    <img src=\"images/GoogleEarth.png\"/>\n",
    "</div>\n",
    "<br>\n",
    "\n",
    "Let's say we want to click the \"Launch Earth\" button, if we used normal ways of grabbing the element, at this point, we would get an exception as the element doesn't exist when the webpage first loads in. We are going to work around that by using an implicit wait.\n"
   ]
  },
  {
   "cell_type": "code",
   "execution_count": null,
   "metadata": {},
   "outputs": [],
   "source": [
    "# Import Selenium Web Driver\n",
    "from selenium import webdriver"
   ]
  },
  {
   "cell_type": "code",
   "execution_count": null,
   "metadata": {},
   "outputs": [],
   "source": [
    "# Assigning the URL\n",
    "url = 'https://www.google.com/earth/'"
   ]
  },
  {
   "cell_type": "code",
   "execution_count": null,
   "metadata": {},
   "outputs": [],
   "source": [
    "# Initialize the webdriver\n",
    "driver = webdriver.Chrome()"
   ]
  },
  {
   "cell_type": "code",
   "execution_count": null,
   "metadata": {},
   "outputs": [],
   "source": [
    "# Create the implicit wait (5 seconds) for the driver\n",
    "driver.implicitly_wait(5)"
   ]
  },
  {
   "cell_type": "code",
   "execution_count": null,
   "metadata": {},
   "outputs": [],
   "source": [
    "# Open up the URL\n",
    "driver.get(url)"
   ]
  },
  {
   "cell_type": "code",
   "execution_count": null,
   "metadata": {},
   "outputs": [],
   "source": [
    "# Find the button element\n",
    "launchEarthButton = driver.find_element_by_xpath('/html/body/header/div/nav[1]/ul[2]/li[2]/a')"
   ]
  },
  {
   "cell_type": "code",
   "execution_count": null,
   "metadata": {},
   "outputs": [],
   "source": [
    "# Create a click action on the button\n",
    "launchEarthButton.click()"
   ]
  },
  {
   "cell_type": "markdown",
   "metadata": {},
   "source": [
    "## Part IV - Selenium Explicit Wait Functions\n",
    "\n",
    "One problem with **Implicit Wait** is that the performance time is fixed for every action with the driver. Also, the speed of the internet may delay the page loading, which make cause an exception in the code. \n",
    "\n",
    "The better solution is to create an **Explicit Wait** by conditions. In our example, since our goal is to click on the \"Launch Earth\" button on the page, we can set the condition to wait until the element become clickable."
   ]
  },
  {
   "cell_type": "code",
   "execution_count": null,
   "metadata": {},
   "outputs": [],
   "source": [
    "# Import the dependencies\n",
    "from selenium import webdriver\n",
    "from selenium.webdriver.common.by import By\n",
    "from selenium.webdriver.support.ui import WebDriverWait\n",
    "from selenium.webdriver.support import expected_conditions as EC"
   ]
  },
  {
   "cell_type": "code",
   "execution_count": null,
   "metadata": {},
   "outputs": [],
   "source": [
    "# Assigning the URL\n",
    "url = 'https://www.google.com/earth/'"
   ]
  },
  {
   "cell_type": "code",
   "execution_count": null,
   "metadata": {},
   "outputs": [],
   "source": [
    "# Initialize the webdriver\n",
    "driver = webdriver.Chrome()"
   ]
  },
  {
   "cell_type": "code",
   "execution_count": null,
   "metadata": {},
   "outputs": [],
   "source": [
    "# Open up the URL\n",
    "driver.get(url)"
   ]
  },
  {
   "cell_type": "code",
   "execution_count": null,
   "metadata": {},
   "outputs": [],
   "source": [
    "# Create the wait function for the web driver\n",
    "# This function will throw an exception after 10 seconds \n",
    "# if the condition is not satisfied\n",
    "wait = WebDriverWait(driver, 10)"
   ]
  },
  {
   "cell_type": "markdown",
   "metadata": {},
   "source": [
    "Setting the condition for **explicit wait**. The condition is created with the expected conditions module to make our program wait until the launch Earth in Chrome button becomes clickable.\n",
    "\n",
    "Let's go ahead and grab the XPath of the button and implement this idea.\n",
    "<br>\n",
    "<br>\n",
    "<div>\n",
    "    <img src=\"images/GoogleEarth_button.png\"/>\n",
    "</div>\n",
    "<br>\n",
    "<br>\n",
    "\n",
    "Our condition, which in his case, is element to be clickable."
   ]
  },
  {
   "cell_type": "code",
   "execution_count": null,
   "metadata": {},
   "outputs": [],
   "source": [
    "# Creating condition for the button action\n",
    "launchEarthButton = wait.until(EC.element_to_be_clickable((By.XPATH, '/html/body/header/div/nav[1]/ul[2]/li[2]/a')))"
   ]
  },
  {
   "cell_type": "code",
   "execution_count": null,
   "metadata": {},
   "outputs": [],
   "source": [
    "# Add the click function to the button\n",
    "launchEarthButton.click()"
   ]
  }
 ],
 "metadata": {
  "kernelspec": {
   "display_name": "Python 3",
   "language": "python",
   "name": "python3"
  },
  "language_info": {
   "codemirror_mode": {
    "name": "ipython",
    "version": 3
   },
   "file_extension": ".py",
   "mimetype": "text/x-python",
   "name": "python",
   "nbconvert_exporter": "python",
   "pygments_lexer": "ipython3",
   "version": "3.7.1"
  }
 },
 "nbformat": 4,
 "nbformat_minor": 2
}
